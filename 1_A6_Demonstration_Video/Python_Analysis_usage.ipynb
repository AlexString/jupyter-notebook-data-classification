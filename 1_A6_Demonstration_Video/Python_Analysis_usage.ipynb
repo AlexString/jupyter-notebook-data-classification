{
 "cells": [
  {
   "cell_type": "markdown",
   "id": "7d38aa23",
   "metadata": {},
   "source": [
    "# Análisis de datos en Python\n",
    "- csv_file -> archivo csv.\n",
    "- data_frame -> marco de datos.\n",
    "\n",
    "Mediante un archivo .csv obtenemos "
   ]
  },
  {
   "cell_type": "code",
   "execution_count": null,
   "id": "bc75d9ee",
   "metadata": {},
   "outputs": [],
   "source": [
    "# librerias/paquetes necesarios para el analisis de datos\n",
    "\n",
    "import pandas #as pd\n",
    "import pandas_profiling #as pp"
   ]
  },
  {
   "cell_type": "code",
   "execution_count": null,
   "id": "1011ada4",
   "metadata": {},
   "outputs": [],
   "source": [
    "csv_file = 'tv_shows.csv' # Shows de television mas vistos, sus rankings y si estan en netflix\n",
    "data_frame = pandas.read_csv(csv_file)"
   ]
  },
  {
   "cell_type": "markdown",
   "id": "b8083cab",
   "metadata": {},
   "source": [
    "## Data frames\n",
    "Métodos que brinda el paquete de pandas:\n",
    "- `.head()` -> Visualiza columnas y valores\n",
    "- `.info()` -> Visualiza tipos de datos y valores nulos\n",
    "- `.groupby()` -> Recibe un arreglo de valores y agrupa datos en función de los valores recibidos."
   ]
  },
  {
   "cell_type": "code",
   "execution_count": null,
   "id": "8a215d70",
   "metadata": {},
   "outputs": [],
   "source": [
    "data_frame.info()"
   ]
  },
  {
   "cell_type": "code",
   "execution_count": null,
   "id": "6930f212",
   "metadata": {},
   "outputs": [],
   "source": [
    "data_frame.head()"
   ]
  },
  {
   "cell_type": "markdown",
   "id": "3911b843",
   "metadata": {},
   "source": [
    "## Obteniendo valores de columnas\n",
    "Se le dice obtener un 'subset' utilizando el data_frame e indicando el nombre de la columna."
   ]
  },
  {
   "cell_type": "code",
   "execution_count": null,
   "id": "e1fb6186",
   "metadata": {},
   "outputs": [],
   "source": [
    "# Una sola columna:\n",
    "#titles = data_frame[\"Titles\"]\n",
    "\n",
    "#titles.head()\n",
    "\n",
    "# Multiples columnas:\n",
    "shows = data_frame[[\"Titles\",\"Netflix\",\"Rating\"]]\n",
    "\n",
    "shows.head()"
   ]
  },
  {
   "cell_type": "code",
   "execution_count": null,
   "id": "ac6f9895",
   "metadata": {},
   "outputs": [],
   "source": [
    "# Que tipo de dato es el obtenido?\n",
    "type(data_frame[[\"Titles\",\"Netflix\"]])"
   ]
  },
  {
   "cell_type": "markdown",
   "id": "151ff35a",
   "metadata": {},
   "source": [
    "## Filtrando datos por valores\n",
    "Interesados unicamente por aquellos shows de televisión que estan en Netflix\n",
    "\n",
    "Utilizando el subset anterior:"
   ]
  },
  {
   "cell_type": "code",
   "execution_count": null,
   "id": "0439b645",
   "metadata": {},
   "outputs": [],
   "source": [
    "# Un solo condicional\n",
    "on_Netflix = shows[shows[\"Netflix\"] == 1]\n",
    "\n",
    "# Multiple condicional\n",
    "\n",
    "# Shows que esten en Netflix **O** en su Rating ponga '18+' -> |\n",
    "#on_Netflix = shows[(shows[\"Netflix\"] == 1) | (shows[\"Rating\"] == \"18+\")]\n",
    "\n",
    "# Shows que esten en Netflix **Y** en su Rating ponga '18+' -> &\n",
    "on_Netflix_Plus18 = shows[(shows[\"Netflix\"] == 1) & (shows[\"Rating\"] == \"18+\")]\n",
    "\n",
    "\n",
    "on_Netflix_Plus18.head()"
   ]
  },
  {
   "cell_type": "markdown",
   "id": "c3899e67",
   "metadata": {},
   "source": [
    "## Graficando valores con Pandas y Matplotlib\n",
    "Existen graficas de:\n",
    "- Diagramas de dispersion\n",
    "- Gráficos de lineas\n",
    "- Gráfico de barras\n",
    "- Grafica de pastel"
   ]
  },
  {
   "cell_type": "code",
   "execution_count": null,
   "id": "1299c14b",
   "metadata": {},
   "outputs": [],
   "source": [
    "count_OnNetflix = on_Netflix.count()\n",
    "count_OnNetflix.Netflix\n"
   ]
  },
  {
   "cell_type": "code",
   "execution_count": null,
   "id": "da95c7e4",
   "metadata": {},
   "outputs": [],
   "source": [
    "count_NotNetflix = data_frame[data_frame[\"Netflix\"] != 1].count()\n",
    "count_NotNetflix.Netflix"
   ]
  },
  {
   "cell_type": "code",
   "execution_count": null,
   "id": "171c8b71",
   "metadata": {},
   "outputs": [],
   "source": [
    "# Es necesario este paquete para guardar tus graficas\n",
    "import matplotlib.pyplot as plt\n",
    "\n",
    "graphData = {'Netflix?': [\"Si\",\"No\"],\n",
    "            'Cantidad': [count_OnNetflix.Netflix,count_NotNetflix.Netflix]}\n",
    "\n",
    "graphDataFrame = pandas.DataFrame(graphData, columns=[\"Netflix?\",\"Cantidad\"])\n",
    "\n",
    "graphDataFrame.plot(x='Netflix?',y='Cantidad',kind = 'bar')\n",
    "plt.savefig(\"netflix.png\")"
   ]
  },
  {
   "cell_type": "markdown",
   "id": "63ad1b86",
   "metadata": {},
   "source": [
    "# Perfilación de datos con pandas_profiling\n",
    "Método: `ProfileReport(data_frame, title='titulo')`\n",
    "- Recibre: data_frame, titulo\n",
    "- Genera un reporte de perfilación de datos"
   ]
  },
  {
   "cell_type": "code",
   "execution_count": null,
   "id": "5ba16971",
   "metadata": {},
   "outputs": [],
   "source": [
    "profile = pandas_profiling.ProfileReport(data_frame, title='titulo')"
   ]
  },
  {
   "cell_type": "code",
   "execution_count": null,
   "id": "c60416f3",
   "metadata": {},
   "outputs": [],
   "source": [
    "profile"
   ]
  }
 ],
 "metadata": {
  "kernelspec": {
   "display_name": "Python 3 (ipykernel)",
   "language": "python",
   "name": "python3"
  },
  "language_info": {
   "codemirror_mode": {
    "name": "ipython",
    "version": 3
   },
   "file_extension": ".py",
   "mimetype": "text/x-python",
   "name": "python",
   "nbconvert_exporter": "python",
   "pygments_lexer": "ipython3",
   "version": "3.9.7"
  }
 },
 "nbformat": 4,
 "nbformat_minor": 5
}
