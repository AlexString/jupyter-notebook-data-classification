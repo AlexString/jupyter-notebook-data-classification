{
 "cells": [
  {
   "cell_type": "markdown",
   "id": "a3e2295d",
   "metadata": {},
   "source": [
    "# Machine Learning - Primera parte\n"
   ]
  },
  {
   "cell_type": "markdown",
   "id": "d1d8548f",
   "metadata": {},
   "source": [
    "## Datos\n",
    "\n",
    "- *Alumno:* Ricardo Alexis Lopez Cadena\n",
    "- *Para la materia de:* Clasificación de Datos\n",
    "- *Universidad de Guadalajara - Centro Universitario de Ciencias Exactas e Ingenierías*\n",
    "- *Sección D03*\n",
    "\n",
    "## Objetivo\n",
    "En la colaboración de un proyecto sobre inventarios de bienes, se desea agregar un módulo de *Machine Learning* para ayudar en base al aprendizaje automático a sugerir clasificadores más pertinentes dentro del catálogo; con tus algoritmos propuestos necesitas encontrar los errores en las clasificaciones y las inconsistencias, para que de esta manera se pueda ajustar el modelo para que sea incorporado a la operación diaria de una aplicación. Ese es el objetivo.\n",
    "\n",
    "En otras palabras, **encontrar qué items se encuentran en clasificaciones erroneas y corregirlo, además de realizar clasificaciones y subclasificaciones de los items.**"
   ]
  },
  {
   "cell_type": "markdown",
   "id": "d67c1e38",
   "metadata": {},
   "source": [
    "## Problemática\n",
    "*Es de notar, que lo que se tiene en este archivo son valores únicos por tupla.*\n",
    "\n",
    "Dentro de este conjunto de datos hay registros que, con toda probabilidad, estén en un lugar equivocado, la intención es buscar los modelos adecuados de algoritmia, para identíficar cuales tuplas con mucha probabilidad están equivocadas."
   ]
  },
  {
   "cell_type": "markdown",
   "id": "f833c55d",
   "metadata": {},
   "source": [
    "## Codificación - Proceso de Clasificación"
   ]
  },
  {
   "cell_type": "markdown",
   "id": "2cae6800",
   "metadata": {},
   "source": [
    "### Estrategía\n",
    "- **DRY (Don't Repeat Yourself)**\n",
    "    - Realizar funciones puede ser más complejo debido a que se tiene que pensar en la reusabilidad pero es bastante satisfactorio evitar tareas repetitivas, **el principio DRY permite que el código sea más legible, sea menos código reduciendo así su complejidad y promoviendo la mantenibilidad**"
   ]
  },
  {
   "cell_type": "markdown",
   "id": "32e90403",
   "metadata": {},
   "source": [
    "### Módulos requeridos"
   ]
  },
  {
   "cell_type": "code",
   "execution_count": 42,
   "id": "f672087f",
   "metadata": {},
   "outputs": [],
   "source": [
    "import pandas as pd # DataFraming\n",
    "import numpy as np\n",
    "from matplotlib import pyplot as plt\n",
    "# to enable the inline plotting within frontends like Jupyter Notebook:\n",
    "%matplotlib inline\n",
    "\n",
    "#import re as regex  # Regular expressions"
   ]
  },
  {
   "cell_type": "markdown",
   "id": "1842a8b5",
   "metadata": {},
   "source": [
    "### Carga de Dataset \n",
    "Debido a que el archivo de excel carece de nombres de columnas, se han nombrado las columnas por conveniencia:\n",
    "- **type**, primer columna\n",
    "- **class**, segunda columna\n",
    "- **description**, tercera columna\n"
   ]
  },
  {
   "cell_type": "code",
   "execution_count": 43,
   "id": "8ef79875",
   "metadata": {},
   "outputs": [],
   "source": [
    "def loadDataset(fileName):\n",
    "    return pd.read_excel(fileName)"
   ]
  },
  {
   "cell_type": "code",
   "execution_count": 44,
   "id": "eb2b9741",
   "metadata": {},
   "outputs": [
    {
     "data": {
      "text/html": [
       "<div>\n",
       "<style scoped>\n",
       "    .dataframe tbody tr th:only-of-type {\n",
       "        vertical-align: middle;\n",
       "    }\n",
       "\n",
       "    .dataframe tbody tr th {\n",
       "        vertical-align: top;\n",
       "    }\n",
       "\n",
       "    .dataframe thead th {\n",
       "        text-align: right;\n",
       "    }\n",
       "</style>\n",
       "<table border=\"1\" class=\"dataframe\">\n",
       "  <thead>\n",
       "    <tr style=\"text-align: right;\">\n",
       "      <th></th>\n",
       "      <th>type</th>\n",
       "      <th>class</th>\n",
       "      <th>description</th>\n",
       "    </tr>\n",
       "  </thead>\n",
       "  <tbody>\n",
       "    <tr>\n",
       "      <th>0</th>\n",
       "      <td>Mobiliario</td>\n",
       "      <td>Mobiliario</td>\n",
       "      <td>SILLON EJECUTIVO RESPALDO MEDIO COLOR NEGRO. N...</td>\n",
       "    </tr>\n",
       "    <tr>\n",
       "      <th>1</th>\n",
       "      <td>Mobiliario</td>\n",
       "      <td>Mobiliario</td>\n",
       "      <td>PINTARRON 60X90 (ALTA 20 ENE 1999 MARCA ALFRA).</td>\n",
       "    </tr>\n",
       "    <tr>\n",
       "      <th>2</th>\n",
       "      <td>Equipo</td>\n",
       "      <td>Equipo</td>\n",
       "      <td>MONITOR DE COLOR HP DE 15\", N.D. 017/2002 ALTA...</td>\n",
       "    </tr>\n",
       "    <tr>\n",
       "      <th>3</th>\n",
       "      <td>Mobiliario</td>\n",
       "      <td>Mobiliario</td>\n",
       "      <td>CESTO DE BASURA ALUMINIO N.D. 007/2005, ALTA 3...</td>\n",
       "    </tr>\n",
       "    <tr>\n",
       "      <th>4</th>\n",
       "      <td>Transporte</td>\n",
       "      <td>Transporte</td>\n",
       "      <td>AUTOMOVIL FORD ESCORT 1998, PLACAS: HZG1129, N...</td>\n",
       "    </tr>\n",
       "  </tbody>\n",
       "</table>\n",
       "</div>"
      ],
      "text/plain": [
       "         type       class                                        description\n",
       "0  Mobiliario  Mobiliario  SILLON EJECUTIVO RESPALDO MEDIO COLOR NEGRO. N...\n",
       "1  Mobiliario  Mobiliario    PINTARRON 60X90 (ALTA 20 ENE 1999 MARCA ALFRA).\n",
       "2      Equipo      Equipo  MONITOR DE COLOR HP DE 15\", N.D. 017/2002 ALTA...\n",
       "3  Mobiliario  Mobiliario  CESTO DE BASURA ALUMINIO N.D. 007/2005, ALTA 3...\n",
       "4  Transporte  Transporte  AUTOMOVIL FORD ESCORT 1998, PLACAS: HZG1129, N..."
      ]
     },
     "execution_count": 44,
     "metadata": {},
     "output_type": "execute_result"
    }
   ],
   "source": [
    "dataFrame = loadDataset('Actividad.xlsx')\n",
    "dataFrame.head()"
   ]
  },
  {
   "cell_type": "markdown",
   "id": "f19e7a59",
   "metadata": {},
   "source": [
    "### Contabilidad de tipos\n",
    "\n",
    "Es necesario comprender cuantos tipos se encuentran en el Dataset.\n",
    "\n",
    "Nota: en una primera versión de `findTypes()` se encontraba en la lista un item `nan`, por lo que decido deshacerme de este directamente en el ciclo."
   ]
  },
  {
   "cell_type": "code",
   "execution_count": 45,
   "id": "b299c0c2",
   "metadata": {},
   "outputs": [],
   "source": [
    "def findTypes(typesColumn):\n",
    "    types = list()\n",
    "\n",
    "    for type in typesColumn:\n",
    "        if type not in types and str(type) != 'nan':\n",
    "            types.append(type)\n",
    "    \n",
    "    return types"
   ]
  },
  {
   "cell_type": "code",
   "execution_count": 46,
   "id": "e3bbe04c",
   "metadata": {},
   "outputs": [
    {
     "name": "stdout",
     "output_type": "stream",
     "text": [
      "Los tipos encontrados son 6: \n",
      "\n",
      "Mobiliario\n",
      "Equipo\n",
      "Transporte\n",
      "Bienes CulturalesArtísticos y Científicos\n",
      "Libro\n",
      "Propiedad Intelectual\n"
     ]
    }
   ],
   "source": [
    "typesFound = findTypes(dataFrame['type'])\n",
    "\n",
    "print(f'Los tipos encontrados son {len(typesFound)}: \\n')\n",
    "\n",
    "print('\\n'.join(map(str, typesFound)))"
   ]
  },
  {
   "cell_type": "markdown",
   "id": "338fb47e",
   "metadata": {},
   "source": [
    "### Limpieza"
   ]
  },
  {
   "cell_type": "markdown",
   "id": "ded060e2",
   "metadata": {},
   "source": [
    "#### Filas vacías\n",
    "Limpiando aquellas filas que están vacías o bien les falta al menos un valor."
   ]
  },
  {
   "cell_type": "code",
   "execution_count": 47,
   "id": "bd2ceb5c",
   "metadata": {},
   "outputs": [],
   "source": [
    "def cleanDatasetRows(dataFrame):\n",
    "    def oneValueMissing(dataFrame):\n",
    "        return dataFrame.dropna()\n",
    "    def allValuesMissing(dataFrame):\n",
    "        return dataFrame.dropna(how='all')\n",
    "    \n",
    "    return allValuesMissing(oneValueMissing(dataFrame))"
   ]
  },
  {
   "cell_type": "code",
   "execution_count": 48,
   "id": "4b7999bf",
   "metadata": {},
   "outputs": [
    {
     "name": "stdout",
     "output_type": "stream",
     "text": [
      "La limpieza de filas se ha realizado y ahora son: 9993 filas\n"
     ]
    }
   ],
   "source": [
    "\"\"\"\n",
    "Pandas DataFrames interpret empty strings as 'not null' so\n",
    "    set empty rows to numpy NaN values:\n",
    "\"\"\"\n",
    "dataFrame[\"description\"].replace('', np.nan, inplace=True)\n",
    "\n",
    "dataFrame = cleanDatasetRows(dataFrame)\n",
    "print(f'La limpieza de filas se ha realizado y ahora son: {len(dataFrame)} filas')"
   ]
  },
  {
   "cell_type": "markdown",
   "id": "7653dd7c",
   "metadata": {},
   "source": [
    "#### Filtro de palabras para eliminar el ruido en el nombre del item"
   ]
  },
  {
   "cell_type": "code",
   "execution_count": 49,
   "id": "3ae765f4",
   "metadata": {},
   "outputs": [],
   "source": [
    "# Must be in lowercase:\n",
    "wordsFilter = set(['de', 'con', 'y', '', 'sin', 'que', 'o', 'a', 'la', 'al',\n",
    "                   'un', 'una', 'los', 'las', 'por', 'en', 'no.', 'n.d', 'para',\n",
    "                   's/m', 's/m,', 's/n', 's/n.', 'el', 'del', 'xla',\n",
    "                   '\"a', 'es', '0', '1', '2', '3', '4', '5', '6', '7', '8', '9',\n",
    "                   '10', '-', '#', 'color', 'muy', 'ni', 'no', 'caracteristicas:',\n",
    "                   'características:', 'n.d.', 's/n:',''])\n"
   ]
  },
  {
   "cell_type": "markdown",
   "id": "57b81d99",
   "metadata": {},
   "source": [
    "#### Columna de descripcion"
   ]
  },
  {
   "cell_type": "code",
   "execution_count": 50,
   "id": "74b735d5",
   "metadata": {},
   "outputs": [],
   "source": [
    "def cleanSentenceWords(sentence, wordsfilter):\n",
    "    def cleanWordRecursive(sentence, word):\n",
    "        if word in sentence:\n",
    "            sentence.remove(word)\n",
    "            cleanWordRecursive(sentence, word)\n",
    "        else:\n",
    "            return\n",
    "\n",
    "    sentenceTokens = sentence.casefold().split()\n",
    "    \n",
    "    for word in wordsFilter:\n",
    "        if word in sentenceTokens:\n",
    "            cleanWordRecursive(sentenceTokens,word)\n",
    "            \n",
    "    return ' '.join(sentenceTokens)\n",
    "\n",
    "# maybe:\n",
    "#def cleanSentenceByRegEx(sentence, regEx):"
   ]
  },
  {
   "cell_type": "code",
   "execution_count": 51,
   "id": "7eff9ae8",
   "metadata": {},
   "outputs": [],
   "source": [
    "def cleanFirstCharacterSpace(word):\n",
    "    try:\n",
    "        if word[0] == ' ':\n",
    "            word = word[1:]\n",
    "    except Exception as error:\n",
    "        print(f'a row has escaped empty rows cleansing, leading to: {error}')\n",
    "    return word"
   ]
  },
  {
   "cell_type": "code",
   "execution_count": 52,
   "id": "1057a687",
   "metadata": {},
   "outputs": [],
   "source": [
    "def cleanSentenceCharacters(sentence):\n",
    "    characters = set(['\"', '\\'', ',', ', ', ';','#', ':', 'P/'])\n",
    "    for char in characters:\n",
    "        sentence = sentence.replace(char,'')\n",
    "    return sentence"
   ]
  },
  {
   "cell_type": "code",
   "execution_count": 53,
   "id": "2fdac3ca",
   "metadata": {},
   "outputs": [],
   "source": [
    "def cleanDescriptionColumn(row):\n",
    "    row = cleanSentenceWords(row, wordsFilter).upper()\n",
    "    row = cleanFirstCharacterSpace(row)\n",
    "    row = cleanSentenceCharacters(row)\n",
    "    return row "
   ]
  },
  {
   "cell_type": "code",
   "execution_count": 54,
   "id": "6a186342",
   "metadata": {},
   "outputs": [
    {
     "name": "stdout",
     "output_type": "stream",
     "text": [
      "a row has escaped empty rows cleansing, leading to: string index out of range\n"
     ]
    }
   ],
   "source": [
    "dataFrameCopy = dataFrame.copy()\n",
    "dataFrame[\"description\"] = dataFrame[\"description\"].astype(str).apply(cleanDescriptionColumn)"
   ]
  },
  {
   "cell_type": "markdown",
   "id": "f014e481",
   "metadata": {},
   "source": [
    "#### Mostrando diferencias - Antes y después de la limpieza"
   ]
  },
  {
   "cell_type": "code",
   "execution_count": 55,
   "id": "59e1de6c",
   "metadata": {},
   "outputs": [
    {
     "data": {
      "text/html": [
       "<div>\n",
       "<style scoped>\n",
       "    .dataframe tbody tr th:only-of-type {\n",
       "        vertical-align: middle;\n",
       "    }\n",
       "\n",
       "    .dataframe tbody tr th {\n",
       "        vertical-align: top;\n",
       "    }\n",
       "\n",
       "    .dataframe thead th {\n",
       "        text-align: right;\n",
       "    }\n",
       "</style>\n",
       "<table border=\"1\" class=\"dataframe\">\n",
       "  <thead>\n",
       "    <tr style=\"text-align: right;\">\n",
       "      <th></th>\n",
       "      <th>type</th>\n",
       "      <th>class</th>\n",
       "      <th>description</th>\n",
       "    </tr>\n",
       "  </thead>\n",
       "  <tbody>\n",
       "    <tr>\n",
       "      <th>0</th>\n",
       "      <td>Mobiliario</td>\n",
       "      <td>Mobiliario</td>\n",
       "      <td>SILLON EJECUTIVO RESPALDO MEDIO COLOR NEGRO. N...</td>\n",
       "    </tr>\n",
       "    <tr>\n",
       "      <th>1</th>\n",
       "      <td>Mobiliario</td>\n",
       "      <td>Mobiliario</td>\n",
       "      <td>PINTARRON 60X90 (ALTA 20 ENE 1999 MARCA ALFRA).</td>\n",
       "    </tr>\n",
       "    <tr>\n",
       "      <th>2</th>\n",
       "      <td>Equipo</td>\n",
       "      <td>Equipo</td>\n",
       "      <td>MONITOR DE COLOR HP DE 15\", N.D. 017/2002 ALTA...</td>\n",
       "    </tr>\n",
       "    <tr>\n",
       "      <th>3</th>\n",
       "      <td>Mobiliario</td>\n",
       "      <td>Mobiliario</td>\n",
       "      <td>CESTO DE BASURA ALUMINIO N.D. 007/2005, ALTA 3...</td>\n",
       "    </tr>\n",
       "    <tr>\n",
       "      <th>4</th>\n",
       "      <td>Transporte</td>\n",
       "      <td>Transporte</td>\n",
       "      <td>AUTOMOVIL FORD ESCORT 1998, PLACAS: HZG1129, N...</td>\n",
       "    </tr>\n",
       "  </tbody>\n",
       "</table>\n",
       "</div>"
      ],
      "text/plain": [
       "         type       class                                        description\n",
       "0  Mobiliario  Mobiliario  SILLON EJECUTIVO RESPALDO MEDIO COLOR NEGRO. N...\n",
       "1  Mobiliario  Mobiliario    PINTARRON 60X90 (ALTA 20 ENE 1999 MARCA ALFRA).\n",
       "2      Equipo      Equipo  MONITOR DE COLOR HP DE 15\", N.D. 017/2002 ALTA...\n",
       "3  Mobiliario  Mobiliario  CESTO DE BASURA ALUMINIO N.D. 007/2005, ALTA 3...\n",
       "4  Transporte  Transporte  AUTOMOVIL FORD ESCORT 1998, PLACAS: HZG1129, N..."
      ]
     },
     "execution_count": 55,
     "metadata": {},
     "output_type": "execute_result"
    }
   ],
   "source": [
    "dataFrameCopy.head()"
   ]
  },
  {
   "cell_type": "code",
   "execution_count": 56,
   "id": "00946b72",
   "metadata": {},
   "outputs": [
    {
     "data": {
      "text/html": [
       "<div>\n",
       "<style scoped>\n",
       "    .dataframe tbody tr th:only-of-type {\n",
       "        vertical-align: middle;\n",
       "    }\n",
       "\n",
       "    .dataframe tbody tr th {\n",
       "        vertical-align: top;\n",
       "    }\n",
       "\n",
       "    .dataframe thead th {\n",
       "        text-align: right;\n",
       "    }\n",
       "</style>\n",
       "<table border=\"1\" class=\"dataframe\">\n",
       "  <thead>\n",
       "    <tr style=\"text-align: right;\">\n",
       "      <th></th>\n",
       "      <th>type</th>\n",
       "      <th>class</th>\n",
       "      <th>description</th>\n",
       "    </tr>\n",
       "  </thead>\n",
       "  <tbody>\n",
       "    <tr>\n",
       "      <th>0</th>\n",
       "      <td>Mobiliario</td>\n",
       "      <td>Mobiliario</td>\n",
       "      <td>SILLON EJECUTIVO RESPALDO MEDIO NEGRO. ND 13/2...</td>\n",
       "    </tr>\n",
       "    <tr>\n",
       "      <th>1</th>\n",
       "      <td>Mobiliario</td>\n",
       "      <td>Mobiliario</td>\n",
       "      <td>PINTARRON 60X90 (ALTA 20 ENE 1999 MARCA ALFRA).</td>\n",
       "    </tr>\n",
       "    <tr>\n",
       "      <th>2</th>\n",
       "      <td>Equipo</td>\n",
       "      <td>Equipo</td>\n",
       "      <td>MONITOR HP 15017/2002 ALTA 07 OCTUBRE 2002</td>\n",
       "    </tr>\n",
       "    <tr>\n",
       "      <th>3</th>\n",
       "      <td>Mobiliario</td>\n",
       "      <td>Mobiliario</td>\n",
       "      <td>CESTO BASURA ALUMINIO 007/2005ALTA 31 AGOSTO 2005</td>\n",
       "    </tr>\n",
       "    <tr>\n",
       "      <th>4</th>\n",
       "      <td>Transporte</td>\n",
       "      <td>Transporte</td>\n",
       "      <td>AUTOMOVIL FORD ESCORT 1998PLACAS HZG1129SERIE ...</td>\n",
       "    </tr>\n",
       "  </tbody>\n",
       "</table>\n",
       "</div>"
      ],
      "text/plain": [
       "         type       class                                        description\n",
       "0  Mobiliario  Mobiliario  SILLON EJECUTIVO RESPALDO MEDIO NEGRO. ND 13/2...\n",
       "1  Mobiliario  Mobiliario    PINTARRON 60X90 (ALTA 20 ENE 1999 MARCA ALFRA).\n",
       "2      Equipo      Equipo         MONITOR HP 15017/2002 ALTA 07 OCTUBRE 2002\n",
       "3  Mobiliario  Mobiliario  CESTO BASURA ALUMINIO 007/2005ALTA 31 AGOSTO 2005\n",
       "4  Transporte  Transporte  AUTOMOVIL FORD ESCORT 1998PLACAS HZG1129SERIE ..."
      ]
     },
     "execution_count": 56,
     "metadata": {},
     "output_type": "execute_result"
    }
   ],
   "source": [
    "dataFrame.head()"
   ]
  },
  {
   "cell_type": "markdown",
   "id": "8a417efe",
   "metadata": {},
   "source": [
    "### Clasificación de datos"
   ]
  },
  {
   "cell_type": "markdown",
   "id": "7b812763",
   "metadata": {},
   "source": [
    "#### Creando una nueva columna 'item'\n",
    "Esta servirá para guardar el nombre del item, usando una función que tome las primeras dos palabras de la descripción."
   ]
  },
  {
   "cell_type": "code",
   "execution_count": 57,
   "id": "c527464c",
   "metadata": {},
   "outputs": [],
   "source": [
    "def getItemName(sentence):\n",
    "    sentenceTokens = sentence.split()\n",
    "    return ' '.join(sentenceTokens[:2])"
   ]
  },
  {
   "cell_type": "code",
   "execution_count": 58,
   "id": "7667ede5",
   "metadata": {},
   "outputs": [],
   "source": [
    "dataFrameCopy = dataFrame.copy()"
   ]
  },
  {
   "cell_type": "code",
   "execution_count": 59,
   "id": "a58c7080",
   "metadata": {},
   "outputs": [
    {
     "data": {
      "text/html": [
       "<div>\n",
       "<style scoped>\n",
       "    .dataframe tbody tr th:only-of-type {\n",
       "        vertical-align: middle;\n",
       "    }\n",
       "\n",
       "    .dataframe tbody tr th {\n",
       "        vertical-align: top;\n",
       "    }\n",
       "\n",
       "    .dataframe thead th {\n",
       "        text-align: right;\n",
       "    }\n",
       "</style>\n",
       "<table border=\"1\" class=\"dataframe\">\n",
       "  <thead>\n",
       "    <tr style=\"text-align: right;\">\n",
       "      <th></th>\n",
       "      <th>type</th>\n",
       "      <th>class</th>\n",
       "      <th>description</th>\n",
       "      <th>item</th>\n",
       "    </tr>\n",
       "  </thead>\n",
       "  <tbody>\n",
       "    <tr>\n",
       "      <th>0</th>\n",
       "      <td>Mobiliario</td>\n",
       "      <td>Mobiliario</td>\n",
       "      <td>SILLON EJECUTIVO RESPALDO MEDIO NEGRO. ND 13/2...</td>\n",
       "      <td>SILLON EJECUTIVO</td>\n",
       "    </tr>\n",
       "    <tr>\n",
       "      <th>1</th>\n",
       "      <td>Mobiliario</td>\n",
       "      <td>Mobiliario</td>\n",
       "      <td>PINTARRON 60X90 (ALTA 20 ENE 1999 MARCA ALFRA).</td>\n",
       "      <td>PINTARRON 60X90</td>\n",
       "    </tr>\n",
       "    <tr>\n",
       "      <th>2</th>\n",
       "      <td>Equipo</td>\n",
       "      <td>Equipo</td>\n",
       "      <td>MONITOR HP 15017/2002 ALTA 07 OCTUBRE 2002</td>\n",
       "      <td>MONITOR HP</td>\n",
       "    </tr>\n",
       "    <tr>\n",
       "      <th>3</th>\n",
       "      <td>Mobiliario</td>\n",
       "      <td>Mobiliario</td>\n",
       "      <td>CESTO BASURA ALUMINIO 007/2005ALTA 31 AGOSTO 2005</td>\n",
       "      <td>CESTO BASURA</td>\n",
       "    </tr>\n",
       "    <tr>\n",
       "      <th>4</th>\n",
       "      <td>Transporte</td>\n",
       "      <td>Transporte</td>\n",
       "      <td>AUTOMOVIL FORD ESCORT 1998PLACAS HZG1129SERIE ...</td>\n",
       "      <td>AUTOMOVIL FORD</td>\n",
       "    </tr>\n",
       "  </tbody>\n",
       "</table>\n",
       "</div>"
      ],
      "text/plain": [
       "         type       class                                        description  \\\n",
       "0  Mobiliario  Mobiliario  SILLON EJECUTIVO RESPALDO MEDIO NEGRO. ND 13/2...   \n",
       "1  Mobiliario  Mobiliario    PINTARRON 60X90 (ALTA 20 ENE 1999 MARCA ALFRA).   \n",
       "2      Equipo      Equipo         MONITOR HP 15017/2002 ALTA 07 OCTUBRE 2002   \n",
       "3  Mobiliario  Mobiliario  CESTO BASURA ALUMINIO 007/2005ALTA 31 AGOSTO 2005   \n",
       "4  Transporte  Transporte  AUTOMOVIL FORD ESCORT 1998PLACAS HZG1129SERIE ...   \n",
       "\n",
       "               item  \n",
       "0  SILLON EJECUTIVO  \n",
       "1   PINTARRON 60X90  \n",
       "2        MONITOR HP  \n",
       "3      CESTO BASURA  \n",
       "4    AUTOMOVIL FORD  "
      ]
     },
     "execution_count": 59,
     "metadata": {},
     "output_type": "execute_result"
    }
   ],
   "source": [
    "dataFrameCopy[\"item\"] = dataFrameCopy[\"description\"].astype(str).apply(getItemName)\n",
    "dataFrameCopy.head()"
   ]
  },
  {
   "cell_type": "markdown",
   "id": "30762155",
   "metadata": {},
   "source": [
    "#### Exportando a CSV para realizar observaciones\n",
    "He exportado el proceso realizado hasta ahora para una observación en la columna 'item' y pensar sobre un criterio para clasificación"
   ]
  },
  {
   "cell_type": "code",
   "execution_count": 60,
   "id": "3a38e74b",
   "metadata": {},
   "outputs": [],
   "source": [
    "#dataFrameCopy.to_csv('act_processed.csv')"
   ]
  },
  {
   "cell_type": "markdown",
   "id": "c3e438cf",
   "metadata": {},
   "source": [
    "#### Creación de filtros para clasificación\n",
    "Este objeto es un objeto `Dictionary` que contiene otro `Dictionary` por cada subClasificación, si se quisiera realizar una sub-subclasificación se usaría nuevamente otro `Dictionary` por cada sub-subclasificación dentro de la clasificación, **la complejidad de los algoritmos que tengan la capacidad de recorrer este objeto oscilaría entre n³ o n⁴**"
   ]
  },
  {
   "cell_type": "code",
   "execution_count": 61,
   "id": "b53f1bbf",
   "metadata": {},
   "outputs": [],
   "source": [
    "classificationFilters = {\n",
    "    'Transporte' : {\n",
    "        'automovil' : ['AUTOMOVIL','PASAJEROS','SEDAN','CAMIONETA','LANCHA','PICKUP','PICK','VEHICULAR''AUTOBUS',\n",
    "                    'CAMION','MOTO','MOTOCICLETA','VEHICULO','UNIDAD','HONDA','TSURU','CRV','FRONTIER'],\n",
    "    },\n",
    "    'Mobiliario' : {\n",
    "        'oficina' : ['TARJETA','TABLERO','MODULO','NOTEBOOK','NETBOOK','ANALIZADOR','COMPRESOR','ARCHIVERO',\n",
    "                     'LAMPARA','MAMPARA','ANAQUEL','LIBRERO','PERCHERO','CALENTADOR','SALA','SECRETARIAL',\n",
    "                    'BASE','SILLA','MUEBLE','FOTOCOPIADORA'],\n",
    "        'cocina' : ['HORNO','ESTUFA','REFRIGERADOR','MICROONDAS','CAFETERRA','COCINA','ALACENA','CONGELADOR',\n",
    "                   'PARRILLA'],\n",
    "        'educacion' : ['PIZZARON','PINTARRON'],\n",
    "    },\n",
    "    'Equipo' : {\n",
    "        'electronico' : ['MONITOR','REGULADOR','TELEFONO','COMPUTADORA','CPU','MOUSE','RATON','TECLADO',\n",
    "                         'BREAK','NOBREAK','AUDIFONO','MICROFONO','GRABADORA','SCANER','PROYECTOR','LAPTOP',\n",
    "                        'PANTALLA','LASSER','LASER','RW','MEMORIA','KINGSTON','PENTIUM','USB','PROCESADOR',\n",
    "                        'CONSOLA','TOSHIBA','SONY','CAMARA','SWITCH','DRIVE','SERVIDOR','RED','TP','ROUTER',\n",
    "                         'ROUTERS','CONMUTADOR','MODEM','FLOPPY','ELECTRONICO','DIGITAL','TRAKER','TRACKER'\n",
    "                        'DISCO DURO','IMPRESORA','REGISTRADORA','VIDEO','VIDEOCASETERA','DVD'],\n",
    "        'seguridad' : ['BOTIQUIN','EXTINTOR','EXTINGUIDOR'],\n",
    "        'mantenimiento' : ['PODADORA','PULIDORA','HERRAMIENTAS'],\n",
    "        'pintura' : ['PINTURA','ACRILICO','MURAL']\n",
    "    },\n",
    "    'Bienes CulturalesArtísticos y Científicos' : {\n",
    "        'obra artística' : ['OBRA','LITOGRAFIA'],\n",
    "        'obra cientifica' : ['DOCUMENTO', 'HISTORICO'],\n",
    "    },\n",
    "    'Libro' : {\n",
    "      'libro' : ['LIBRO','CUENTO','REVISTA','VAQUERO','LUNA DE PLUTON']\n",
    "    },\n",
    "    'Propiedad Intelectual' : {\n",
    "        'licencia' : ['LICENCIA','ENCUESTA']\n",
    "    }\n",
    "}"
   ]
  },
  {
   "cell_type": "markdown",
   "id": "0ab3ed1f",
   "metadata": {},
   "source": [
    "#### Clasificando y reescribiendo columna 'class'\n",
    "- La función `matchTypes()` actualmente retorna la clase y la subclase para la clasificación. Se espera que después exista una subclase de la subclase **para clasificación de tres niveles**.\n",
    "- La función `isMatch()` retorna verdadero si dentro del nombre del item se encuentra una palabra clave que entre en una clasificación.\n",
    "- Existen dos rutinas de clasifiación: `clasificationOnClass` y `clasificationOnType`, una afecta a la columna **clase** y la otra afecta a la columna **type**.\n",
    "- Existen dos algoritmos de *'clasifación'* realizados para la columna **class**: \n",
    "    - **clasificación normal:** si no encuentra clasificación adecuada, deja la clasificación que tiene.\n",
    "    - **clasificación 'bruta':** si no encuentra clasificación adecuada, descarta la instancia para ser eliminada posteriormente."
   ]
  },
  {
   "cell_type": "code",
   "execution_count": 62,
   "id": "539cd8c4",
   "metadata": {},
   "outputs": [],
   "source": [
    "def isMatch(values, itemName):\n",
    "            for word in itemName:\n",
    "                if word in values:\n",
    "                    return True\n",
    "            return False\n",
    "        \n",
    "def matchTypes(parentDictionary, itemName):\n",
    "    for parentType, childDictionary in parentDictionary.items():\n",
    "        for childType, valuesList in childDictionary.items():\n",
    "            if isMatch(valuesList, itemName.split()):\n",
    "                return parentType, childType\n",
    "    return False, False"
   ]
  },
  {
   "cell_type": "code",
   "execution_count": 63,
   "id": "0fce9cd5",
   "metadata": {},
   "outputs": [],
   "source": [
    "## --- NORMAL CLASIFICATION\n",
    "def classificationOnClass(parentDictionary, row):\n",
    "    _, itemClass = matchTypes(parentDictionary, row[\"item\"])    \n",
    "    if itemClass is not False:\n",
    "        return itemClass\n",
    "    return row[\"class\"]\n",
    "    #return itemClass if not False else row[\"class\"]\n",
    "\n",
    "## --- CLASIFICATION THAT DISCARDS NOT CLASSIFIED VALUES\n",
    "\n",
    "#def bruteClassificationOnClass(parentDictionary, row):            \n",
    " #   _, itemClass = matchTypes(parentDictionary, row[\"item\"])    \n",
    "  #  return itemClass if not False else np.nan\n",
    "   # # after this, can call cleanDatasetRows() again\n"
   ]
  },
  {
   "cell_type": "code",
   "execution_count": 64,
   "id": "f5e444b8",
   "metadata": {},
   "outputs": [],
   "source": [
    "dataFrameCopy['class'] = dataFrameCopy.astype(str).apply(\n",
    "    lambda row: classificationOnClass(classificationFilters, row), axis=1,\n",
    "    #lambda row: bruteClassificationOnClass(classificationFilters, row), axis=1\n",
    ")"
   ]
  },
  {
   "cell_type": "markdown",
   "id": "5a2350b8",
   "metadata": {},
   "source": [
    "#### Clasificando y reescribiendo columna 'type'\n",
    "Se busca asegurar que la columna **class** se encuentre correctamente en el conjunto padre de la columna **type**  por lo que `classificationOnType()`se asegura que esta premisa se cumpla.\n",
    "\n",
    "Referencia: ver objeto `Dictionary` -> `classificationFilters`"
   ]
  },
  {
   "cell_type": "code",
   "execution_count": 65,
   "id": "aa82e913",
   "metadata": {},
   "outputs": [],
   "source": [
    "def classificationOnType(parentDictionary,row):\n",
    "    itemType, _ = matchTypes(parentDictionary, row[\"item\"])    \n",
    "    if itemType is not False:\n",
    "        return itemType\n",
    "    return row[\"type\"]\n",
    "    #return itemType if not False else row[\"type\"]"
   ]
  },
  {
   "cell_type": "code",
   "execution_count": 66,
   "id": "7ae44218",
   "metadata": {},
   "outputs": [],
   "source": [
    "dataFrameCopy['type'] = dataFrameCopy.astype(str).apply(\n",
    "    lambda row: classificationOnType(classificationFilters, row), axis=1,\n",
    "    #lambda row: bruteClassificationOnClass(classificationFilters, row), axis=1\n",
    ")"
   ]
  },
  {
   "cell_type": "code",
   "execution_count": null,
   "id": "f15681bb",
   "metadata": {},
   "outputs": [],
   "source": [
    "#dataFrameCopy[\"class\"] = dataFrameCopy.astype(str).apply(lambda x: x[\"class\"].casefold(),axis=1)"
   ]
  },
  {
   "cell_type": "markdown",
   "id": "620fbba9",
   "metadata": {},
   "source": [
    "#### Limpieza opcional\n",
    "Si se usó `bruteClassificationOnClass()` se hace una limpieza: eliminando filas que no pudieron ser clasificadas.\n",
    "\n",
    "- Se puede exportar el dataset para una visualización antes y después de la limpieza *descomentando* las lineas de código correspondientes en el siguiente bloque:"
   ]
  },
  {
   "cell_type": "code",
   "execution_count": 67,
   "id": "6b77a09a",
   "metadata": {},
   "outputs": [],
   "source": [
    "# Before brute cleansing\n",
    "dataFrameCopy.to_csv('dataset_processed.csv')\n",
    "\n",
    "# After brute cleansing\n",
    "#dataFrameCopy = cleanDatasetRows(dataFrameCopy)\n",
    "#dataFrameCopy.to_csv('dataset_processed_used_nan.csv') "
   ]
  },
  {
   "cell_type": "markdown",
   "id": "60f837e4",
   "metadata": {},
   "source": [
    "## Codificación - Vista de clasificaciones"
   ]
  },
  {
   "cell_type": "markdown",
   "id": "250df4bf",
   "metadata": {},
   "source": [
    "### Carga dataset procesado\n",
    "Optando por el camino de no usar la *clasificación 'bruta'* se carga el dataset que no ha sido afectado por esta."
   ]
  },
  {
   "cell_type": "code",
   "execution_count": 135,
   "id": "61ce7558",
   "metadata": {},
   "outputs": [],
   "source": [
    "groupDataSet = pd.read_csv('dataset_processed.csv')"
   ]
  },
  {
   "cell_type": "markdown",
   "id": "364d07a7",
   "metadata": {},
   "source": [
    "### Se convierten los atributos de la columna 'class' a solo minuscula\n",
    "No necesitamos que los atributos tengan letra capitalizada"
   ]
  },
  {
   "cell_type": "code",
   "execution_count": 136,
   "id": "2b70c47b",
   "metadata": {},
   "outputs": [],
   "source": [
    "groupDataSet.drop('Unnamed: 0', axis=1, inplace=True)"
   ]
  },
  {
   "cell_type": "code",
   "execution_count": 137,
   "id": "0788c848",
   "metadata": {
    "scrolled": false
   },
   "outputs": [
    {
     "data": {
      "text/html": [
       "<div>\n",
       "<style scoped>\n",
       "    .dataframe tbody tr th:only-of-type {\n",
       "        vertical-align: middle;\n",
       "    }\n",
       "\n",
       "    .dataframe tbody tr th {\n",
       "        vertical-align: top;\n",
       "    }\n",
       "\n",
       "    .dataframe thead th {\n",
       "        text-align: right;\n",
       "    }\n",
       "</style>\n",
       "<table border=\"1\" class=\"dataframe\">\n",
       "  <thead>\n",
       "    <tr style=\"text-align: right;\">\n",
       "      <th></th>\n",
       "      <th>type</th>\n",
       "      <th>class</th>\n",
       "      <th>description</th>\n",
       "      <th>item</th>\n",
       "    </tr>\n",
       "  </thead>\n",
       "  <tbody>\n",
       "    <tr>\n",
       "      <th>0</th>\n",
       "      <td>Mobiliario</td>\n",
       "      <td>mobiliario</td>\n",
       "      <td>SILLON EJECUTIVO RESPALDO MEDIO NEGRO. ND 13/2...</td>\n",
       "      <td>SILLON EJECUTIVO</td>\n",
       "    </tr>\n",
       "    <tr>\n",
       "      <th>1</th>\n",
       "      <td>Mobiliario</td>\n",
       "      <td>educacion</td>\n",
       "      <td>PINTARRON 60X90 (ALTA 20 ENE 1999 MARCA ALFRA).</td>\n",
       "      <td>PINTARRON 60X90</td>\n",
       "    </tr>\n",
       "    <tr>\n",
       "      <th>2</th>\n",
       "      <td>Equipo</td>\n",
       "      <td>electronico</td>\n",
       "      <td>MONITOR HP 15017/2002 ALTA 07 OCTUBRE 2002</td>\n",
       "      <td>MONITOR HP</td>\n",
       "    </tr>\n",
       "    <tr>\n",
       "      <th>3</th>\n",
       "      <td>Mobiliario</td>\n",
       "      <td>mobiliario</td>\n",
       "      <td>CESTO BASURA ALUMINIO 007/2005ALTA 31 AGOSTO 2005</td>\n",
       "      <td>CESTO BASURA</td>\n",
       "    </tr>\n",
       "    <tr>\n",
       "      <th>4</th>\n",
       "      <td>Transporte</td>\n",
       "      <td>automovil</td>\n",
       "      <td>AUTOMOVIL FORD ESCORT 1998PLACAS HZG1129SERIE ...</td>\n",
       "      <td>AUTOMOVIL FORD</td>\n",
       "    </tr>\n",
       "  </tbody>\n",
       "</table>\n",
       "</div>"
      ],
      "text/plain": [
       "         type        class                                        description  \\\n",
       "0  Mobiliario   mobiliario  SILLON EJECUTIVO RESPALDO MEDIO NEGRO. ND 13/2...   \n",
       "1  Mobiliario    educacion    PINTARRON 60X90 (ALTA 20 ENE 1999 MARCA ALFRA).   \n",
       "2      Equipo  electronico         MONITOR HP 15017/2002 ALTA 07 OCTUBRE 2002   \n",
       "3  Mobiliario   mobiliario  CESTO BASURA ALUMINIO 007/2005ALTA 31 AGOSTO 2005   \n",
       "4  Transporte    automovil  AUTOMOVIL FORD ESCORT 1998PLACAS HZG1129SERIE ...   \n",
       "\n",
       "               item  \n",
       "0  SILLON EJECUTIVO  \n",
       "1   PINTARRON 60X90  \n",
       "2        MONITOR HP  \n",
       "3      CESTO BASURA  \n",
       "4    AUTOMOVIL FORD  "
      ]
     },
     "execution_count": 137,
     "metadata": {},
     "output_type": "execute_result"
    }
   ],
   "source": [
    "groupDataSet[\"class\"] = groupDataSet.astype(str).apply(lambda x: x[\"class\"].casefold(),axis=1)\n",
    "\n",
    "groupDataSet.head()"
   ]
  },
  {
   "cell_type": "markdown",
   "id": "9e1eb48b",
   "metadata": {},
   "source": [
    "### Codificación - Conteo\n",
    "Por cada clasificación encontrada se cuentan las instancias que entran en cada una."
   ]
  },
  {
   "cell_type": "code",
   "execution_count": 155,
   "id": "5df02386",
   "metadata": {},
   "outputs": [
    {
     "name": "stdout",
     "output_type": "stream",
     "text": [
      "Tipos:\n",
      "Mobiliario\n",
      "Equipo\n",
      "Transporte\n",
      "Bienes CulturalesArtísticos y Científicos\n",
      "Libro\n",
      "Propiedad Intelectual\n",
      "\n",
      "\n",
      "Cantidad:\n",
      "2724\n",
      "5625\n",
      "83\n",
      "18\n",
      "1534\n",
      "9\n"
     ]
    }
   ],
   "source": [
    "print('Tipos:')\n",
    "print('\\n'.join(map(str, typesFound)))\n",
    "print('\\n')\n",
    "print('Cantidad:')\n",
    "print('\\n'.join(map(str, typesCount)))"
   ]
  },
  {
   "cell_type": "code",
   "execution_count": 139,
   "id": "2fa659cc",
   "metadata": {},
   "outputs": [],
   "source": [
    "typesCount = list()\n",
    "for a_type in typesFound:\n",
    "    count = groupDataSet[ groupDataSet[\"type\"] == a_type ].count()\n",
    "    typesCount.append(count.type)"
   ]
  },
  {
   "cell_type": "markdown",
   "id": "67024c6c",
   "metadata": {},
   "source": [
    "## Codificación - Graficación\n",
    "Obtención de subdatasets no automatizada para mostrar cada tabla"
   ]
  },
  {
   "cell_type": "code",
   "execution_count": 151,
   "id": "2783fc65",
   "metadata": {},
   "outputs": [
    {
     "data": {
      "image/png": "[encoded data removed]",
      "text/plain": [
       "<Figure size 432x288 with 1 Axes>"
      ]
     },
     "metadata": {
      "needs_background": "light"
     },
     "output_type": "display_data"
    }
   ],
   "source": [
    "fig, ax = plt.subplots()\n",
    "\n",
    "ax.barh(typesFound,typesCount)\n",
    "plt.title('Items clasificados')\n",
    "plt.ylabel('Clasificaciones padre')\n",
    "plt.xlabel('cantidad')\n",
    "plt.show()"
   ]
  },
  {
   "cell_type": "markdown",
   "id": "2f69522c",
   "metadata": {},
   "source": [
    "## Vista generica de la clasificación terminada.\n",
    "Mostrando el primer item de cada subclasificación"
   ]
  },
  {
   "cell_type": "code",
   "execution_count": 160,
   "id": "6eb41d62",
   "metadata": {},
   "outputs": [
    {
     "data": {
      "text/html": [
       "<div>\n",
       "<style scoped>\n",
       "    .dataframe tbody tr th:only-of-type {\n",
       "        vertical-align: middle;\n",
       "    }\n",
       "\n",
       "    .dataframe tbody tr th {\n",
       "        vertical-align: top;\n",
       "    }\n",
       "\n",
       "    .dataframe thead th {\n",
       "        text-align: right;\n",
       "    }\n",
       "</style>\n",
       "<table border=\"1\" class=\"dataframe\">\n",
       "  <thead>\n",
       "    <tr style=\"text-align: right;\">\n",
       "      <th></th>\n",
       "      <th></th>\n",
       "      <th>description</th>\n",
       "      <th>item</th>\n",
       "    </tr>\n",
       "    <tr>\n",
       "      <th>type</th>\n",
       "      <th>class</th>\n",
       "      <th></th>\n",
       "      <th></th>\n",
       "    </tr>\n",
       "  </thead>\n",
       "  <tbody>\n",
       "    <tr>\n",
       "      <th rowspan=\"2\" valign=\"top\">Bienes CulturalesArtísticos y Científicos</th>\n",
       "      <th>obra artística</th>\n",
       "      <td>CUADRO LITOGRAFIA SIBYL</td>\n",
       "      <td>CUADRO LITOGRAFIA</td>\n",
       "    </tr>\n",
       "    <tr>\n",
       "      <th>obra cientifica</th>\n",
       "      <td>DOCUMENTO HISTORICO. GENERACION ABOGADOS LIC. ...</td>\n",
       "      <td>DOCUMENTO HISTORICO.</td>\n",
       "    </tr>\n",
       "    <tr>\n",
       "      <th rowspan=\"5\" valign=\"top\">Equipo</th>\n",
       "      <th>electronico</th>\n",
       "      <td>MONITOR HP 15017/2002 ALTA 07 OCTUBRE 2002</td>\n",
       "      <td>MONITOR HP</td>\n",
       "    </tr>\n",
       "    <tr>\n",
       "      <th>equipo</th>\n",
       "      <td>TRITURADORA DOCUMENTOS. ALTA 13 SEP 200607/2006</td>\n",
       "      <td>TRITURADORA DOCUMENTOS.</td>\n",
       "    </tr>\n",
       "    <tr>\n",
       "      <th>mantenimiento</th>\n",
       "      <td>PULIDORA AMARILLO</td>\n",
       "      <td>PULIDORA AMARILLO</td>\n",
       "    </tr>\n",
       "    <tr>\n",
       "      <th>pintura</th>\n",
       "      <td>PAPELERA ACRILICO</td>\n",
       "      <td>PAPELERA ACRILICO</td>\n",
       "    </tr>\n",
       "    <tr>\n",
       "      <th>seguridad</th>\n",
       "      <td>BOTIQUIN MADERA BLANCO PLXOC/INS</td>\n",
       "      <td>BOTIQUIN MADERA</td>\n",
       "    </tr>\n",
       "    <tr>\n",
       "      <th>Libro</th>\n",
       "      <th>libro</th>\n",
       "      <td>ISBN 13978-0-7858-2011-6ISBN 0-7858-2011-6</td>\n",
       "      <td>ISBN 13978-0-7858-2011-6ISBN</td>\n",
       "    </tr>\n",
       "    <tr>\n",
       "      <th rowspan=\"4\" valign=\"top\">Mobiliario</th>\n",
       "      <th>cocina</th>\n",
       "      <td>COCINA INTEGRAL ESCUADRAMEDIDAS 2.50 MTS. CUEN...</td>\n",
       "      <td>COCINA INTEGRAL</td>\n",
       "    </tr>\n",
       "    <tr>\n",
       "      <th>educacion</th>\n",
       "      <td>PINTARRON 60X90 (ALTA 20 ENE 1999 MARCA ALFRA).</td>\n",
       "      <td>PINTARRON 60X90</td>\n",
       "    </tr>\n",
       "    <tr>\n",
       "      <th>mobiliario</th>\n",
       "      <td>SILLON EJECUTIVO RESPALDO MEDIO NEGRO. ND 13/2...</td>\n",
       "      <td>SILLON EJECUTIVO</td>\n",
       "    </tr>\n",
       "    <tr>\n",
       "      <th>oficina</th>\n",
       "      <td>SILLON SALA RECEPCION.(SILLON FIJO III PLAZAS ...</td>\n",
       "      <td>SILLON SALA</td>\n",
       "    </tr>\n",
       "    <tr>\n",
       "      <th rowspan=\"2\" valign=\"top\">Propiedad Intelectual</th>\n",
       "      <th>licencia</th>\n",
       "      <td>LICENCIA DIRECTOR MX MULTIPLATAFORMA</td>\n",
       "      <td>LICENCIA DIRECTOR</td>\n",
       "    </tr>\n",
       "    <tr>\n",
       "      <th>propiedad intelectual</th>\n",
       "      <td>SOFTWARE ENCUESTAS SISTEMATIZACION RESULTADOS ...</td>\n",
       "      <td>SOFTWARE ENCUESTAS</td>\n",
       "    </tr>\n",
       "    <tr>\n",
       "      <th rowspan=\"2\" valign=\"top\">Transporte</th>\n",
       "      <th>automovil</th>\n",
       "      <td>AUTOMOVIL FORD ESCORT 1998PLACAS HZG1129SERIE ...</td>\n",
       "      <td>AUTOMOVIL FORD</td>\n",
       "    </tr>\n",
       "    <tr>\n",
       "      <th>transporte</th>\n",
       "      <td>AIRE ACONDICIONADO TRANSMISION AUTOMATICA 12 P...</td>\n",
       "      <td>AIRE ACONDICIONADO</td>\n",
       "    </tr>\n",
       "  </tbody>\n",
       "</table>\n",
       "</div>"
      ],
      "text/plain": [
       "                                                                                                       description  \\\n",
       "type                                      class                                                                      \n",
       "Bienes CulturalesArtísticos y Científicos obra artística                                   CUADRO LITOGRAFIA SIBYL   \n",
       "                                          obra cientifica        DOCUMENTO HISTORICO. GENERACION ABOGADOS LIC. ...   \n",
       "Equipo                                    electronico                   MONITOR HP 15017/2002 ALTA 07 OCTUBRE 2002   \n",
       "                                          equipo                   TRITURADORA DOCUMENTOS. ALTA 13 SEP 200607/2006   \n",
       "                                          mantenimiento                                          PULIDORA AMARILLO   \n",
       "                                          pintura                                                PAPELERA ACRILICO   \n",
       "                                          seguridad                               BOTIQUIN MADERA BLANCO PLXOC/INS   \n",
       "Libro                                     libro                         ISBN 13978-0-7858-2011-6ISBN 0-7858-2011-6   \n",
       "Mobiliario                                cocina                 COCINA INTEGRAL ESCUADRAMEDIDAS 2.50 MTS. CUEN...   \n",
       "                                          educacion                PINTARRON 60X90 (ALTA 20 ENE 1999 MARCA ALFRA).   \n",
       "                                          mobiliario             SILLON EJECUTIVO RESPALDO MEDIO NEGRO. ND 13/2...   \n",
       "                                          oficina                SILLON SALA RECEPCION.(SILLON FIJO III PLAZAS ...   \n",
       "Propiedad Intelectual                     licencia                            LICENCIA DIRECTOR MX MULTIPLATAFORMA   \n",
       "                                          propiedad intelectual  SOFTWARE ENCUESTAS SISTEMATIZACION RESULTADOS ...   \n",
       "Transporte                                automovil              AUTOMOVIL FORD ESCORT 1998PLACAS HZG1129SERIE ...   \n",
       "                                          transporte             AIRE ACONDICIONADO TRANSMISION AUTOMATICA 12 P...   \n",
       "\n",
       "                                                                                         item  \n",
       "type                                      class                                                \n",
       "Bienes CulturalesArtísticos y Científicos obra artística                    CUADRO LITOGRAFIA  \n",
       "                                          obra cientifica                DOCUMENTO HISTORICO.  \n",
       "Equipo                                    electronico                              MONITOR HP  \n",
       "                                          equipo                      TRITURADORA DOCUMENTOS.  \n",
       "                                          mantenimiento                     PULIDORA AMARILLO  \n",
       "                                          pintura                           PAPELERA ACRILICO  \n",
       "                                          seguridad                           BOTIQUIN MADERA  \n",
       "Libro                                     libro                  ISBN 13978-0-7858-2011-6ISBN  \n",
       "Mobiliario                                cocina                              COCINA INTEGRAL  \n",
       "                                          educacion                           PINTARRON 60X90  \n",
       "                                          mobiliario                         SILLON EJECUTIVO  \n",
       "                                          oficina                                 SILLON SALA  \n",
       "Propiedad Intelectual                     licencia                          LICENCIA DIRECTOR  \n",
       "                                          propiedad intelectual            SOFTWARE ENCUESTAS  \n",
       "Transporte                                automovil                            AUTOMOVIL FORD  \n",
       "                                          transporte                       AIRE ACONDICIONADO  "
      ]
     },
     "execution_count": 160,
     "metadata": {},
     "output_type": "execute_result"
    }
   ],
   "source": [
    "showGroupDataSet = groupDataSet.copy()\n",
    "showGroupDataSet.groupby(['type','class']).first()"
   ]
  },
  {
   "cell_type": "code",
   "execution_count": null,
   "id": "8e2bd5a8",
   "metadata": {},
   "outputs": [],
   "source": []
  }
 ],
 "metadata": {
  "kernelspec": {
   "display_name": "Python 3 (ipykernel)",
   "language": "python",
   "name": "python3"
  },
  "language_info": {
   "codemirror_mode": {
    "name": "ipython",
    "version": 3
   },
   "file_extension": ".py",
   "mimetype": "text/x-python",
   "name": "python",
   "nbconvert_exporter": "python",
   "pygments_lexer": "ipython3",
   "version": "3.9.7"
  }
 },
 "nbformat": 4,
 "nbformat_minor": 5
}
