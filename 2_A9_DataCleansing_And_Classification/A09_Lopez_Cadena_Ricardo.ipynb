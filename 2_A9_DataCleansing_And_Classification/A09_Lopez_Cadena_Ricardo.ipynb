{
 "cells": [
  {
   "cell_type": "markdown",
   "id": "a3e2295d",
   "metadata": {},
   "source": [
    "# Machine Learning - Primera parte\n"
   ]
  },
  {
   "cell_type": "markdown",
   "id": "d1d8548f",
   "metadata": {},
   "source": [
    "## Datos\n",
    "\n",
    "- *Alumno:* Ricardo Alexis Lopez Cadena\n",
    "- *Para la materia de:* Clasificación de Datos\n",
    "- *Universidad de Guadalajara - Centro Universitario de Ciencias Exactas e Ingenierías*\n",
    "- *Sección D03*\n",
    "\n",
    "## Objetivo\n",
    "En la colaboración de un proyecto sobre inventarios de bienes, se desea agregar un módulo de *Machine Learning* para ayudar en base al aprendizaje automático a sugerir clasificadores más pertinentes dentro del catálogo; con tus algoritmos propuestos necesitas encontrar los errores en las clasificaciones y las inconsistencias, para que de esta manera se pueda ajustar el modelo para que sea incorporado a la operación diaria de una aplicación. Ese es el objetivo.\n",
    "\n",
    "En otras palabras, **encontrar qué items se encuentran en clasificaciones erroneas y corregirlo, además de realizar clasificaciones y subclasificaciones de los items.**"
   ]
  },
  {
   "cell_type": "markdown",
   "id": "d67c1e38",
   "metadata": {},
   "source": [
    "## Problemática\n",
    "*Es de notar, que lo que se tiene en este archivo son valores únicos por tupla.*\n",
    "\n",
    "Dentro de este conjunto de datos hay registros que, con toda probabilidad, estén en un lugar equivocado, la intención es buscar los modelos adecuados de algoritmia, para identíficar cuales tuplas con mucha probabilidad están equivocadas."
   ]
  },
  {
   "cell_type": "markdown",
   "id": "f833c55d",
   "metadata": {},
   "source": [
    "## Codificación - Proceso de Clasificación"
   ]
  },
  {
   "cell_type": "markdown",
   "id": "2cae6800",
   "metadata": {},
   "source": [
    "### Estrategía\n",
    "- **DRY (Don't Repeat Yourself)**\n",
    "    - Realizar funciones puede ser más complejo debido a que se tiene que pensar en la reusabilidad pero es bastante satisfactorio evitar tareas repetitivas, **el principio DRY permite que el código sea más legible, sea menos código reduciendo así su complejidad y promoviendo la mantenibilidad**"
   ]
  },
  {
   "cell_type": "markdown",
   "id": "32e90403",
   "metadata": {},
   "source": [
    "### Módulos requeridos"
   ]
  },
  {
   "cell_type": "code",
   "execution_count": 51,
   "id": "f672087f",
   "metadata": {},
   "outputs": [],
   "source": [
    "import pandas as pd # DataFraming\n",
    "import numpy as np\n",
    "#import re as regex  # Regular expressions"
   ]
  },
  {
   "cell_type": "markdown",
   "id": "1842a8b5",
   "metadata": {},
   "source": [
    "### Carga de Dataset \n",
    "Debido a que el archivo de excel carece de nombres de columnas, se han nombrado las columnas por conveniencia:\n",
    "- type, primer columna\n",
    "- class, segunda columna\n",
    "- description, tercera columna\n"
   ]
  },
  {
   "cell_type": "code",
   "execution_count": 52,
   "id": "8ef79875",
   "metadata": {},
   "outputs": [],
   "source": [
    "def loadDataset(fileName):\n",
    "    return pd.read_excel(fileName)"
   ]
  },
  {
   "cell_type": "code",
   "execution_count": 53,
   "id": "eb2b9741",
   "metadata": {},
   "outputs": [
    {
     "data": {
      "text/html": [
       "<div>\n",
       "<style scoped>\n",
       "    .dataframe tbody tr th:only-of-type {\n",
       "        vertical-align: middle;\n",
       "    }\n",
       "\n",
       "    .dataframe tbody tr th {\n",
       "        vertical-align: top;\n",
       "    }\n",
       "\n",
       "    .dataframe thead th {\n",
       "        text-align: right;\n",
       "    }\n",
       "</style>\n",
       "<table border=\"1\" class=\"dataframe\">\n",
       "  <thead>\n",
       "    <tr style=\"text-align: right;\">\n",
       "      <th></th>\n",
       "      <th>type</th>\n",
       "      <th>class</th>\n",
       "      <th>description</th>\n",
       "    </tr>\n",
       "  </thead>\n",
       "  <tbody>\n",
       "    <tr>\n",
       "      <th>0</th>\n",
       "      <td>Mobiliario</td>\n",
       "      <td>Mobiliario</td>\n",
       "      <td>SILLON EJECUTIVO RESPALDO MEDIO COLOR NEGRO. N...</td>\n",
       "    </tr>\n",
       "    <tr>\n",
       "      <th>1</th>\n",
       "      <td>Mobiliario</td>\n",
       "      <td>Mobiliario</td>\n",
       "      <td>PINTARRON 60X90 (ALTA 20 ENE 1999 MARCA ALFRA).</td>\n",
       "    </tr>\n",
       "    <tr>\n",
       "      <th>2</th>\n",
       "      <td>Equipo</td>\n",
       "      <td>Equipo</td>\n",
       "      <td>MONITOR DE COLOR HP DE 15\", N.D. 017/2002 ALTA...</td>\n",
       "    </tr>\n",
       "    <tr>\n",
       "      <th>3</th>\n",
       "      <td>Mobiliario</td>\n",
       "      <td>Mobiliario</td>\n",
       "      <td>CESTO DE BASURA ALUMINIO N.D. 007/2005, ALTA 3...</td>\n",
       "    </tr>\n",
       "    <tr>\n",
       "      <th>4</th>\n",
       "      <td>Transporte</td>\n",
       "      <td>Transporte</td>\n",
       "      <td>AUTOMOVIL FORD ESCORT 1998, PLACAS: HZG1129, N...</td>\n",
       "    </tr>\n",
       "  </tbody>\n",
       "</table>\n",
       "</div>"
      ],
      "text/plain": [
       "         type       class                                        description\n",
       "0  Mobiliario  Mobiliario  SILLON EJECUTIVO RESPALDO MEDIO COLOR NEGRO. N...\n",
       "1  Mobiliario  Mobiliario    PINTARRON 60X90 (ALTA 20 ENE 1999 MARCA ALFRA).\n",
       "2      Equipo      Equipo  MONITOR DE COLOR HP DE 15\", N.D. 017/2002 ALTA...\n",
       "3  Mobiliario  Mobiliario  CESTO DE BASURA ALUMINIO N.D. 007/2005, ALTA 3...\n",
       "4  Transporte  Transporte  AUTOMOVIL FORD ESCORT 1998, PLACAS: HZG1129, N..."
      ]
     },
     "execution_count": 53,
     "metadata": {},
     "output_type": "execute_result"
    }
   ],
   "source": [
    "dataFrame = loadDataset('Actividad.xlsx')\n",
    "dataFrame.head()"
   ]
  },
  {
   "cell_type": "markdown",
   "id": "f19e7a59",
   "metadata": {},
   "source": [
    "### Contabilidad de tipos\n",
    "\n",
    "Es necesario comprender cuantos tipos se encuentran en el Dataset.\n",
    "\n",
    "Nota: en una primera versión de `findTypes()` se encontraba en la lista un item `nan`, por lo que decido deshacerme de este directamente en el ciclo."
   ]
  },
  {
   "cell_type": "code",
   "execution_count": 54,
   "id": "b299c0c2",
   "metadata": {},
   "outputs": [],
   "source": [
    "def findTypes(typesColumn):\n",
    "    types = list()\n",
    "\n",
    "    for type in typesColumn:\n",
    "        if type not in types and str(type) != 'nan':\n",
    "            types.append(type)\n",
    "    \n",
    "    return types"
   ]
  },
  {
   "cell_type": "code",
   "execution_count": 55,
   "id": "e3bbe04c",
   "metadata": {},
   "outputs": [
    {
     "name": "stdout",
     "output_type": "stream",
     "text": [
      "Los tipos encontrados son 6: \n",
      "\n",
      "Mobiliario\n",
      "Equipo\n",
      "Transporte\n",
      "Bienes CulturalesArtísticos y Científicos\n",
      "Libro\n",
      "Propiedad Intelectual\n"
     ]
    }
   ],
   "source": [
    "typesFound = findTypes(dataFrame['type'])\n",
    "\n",
    "print(f'Los tipos encontrados son {len(typesFound)}: \\n')\n",
    "\n",
    "print('\\n'.join(map(str, typesFound)))"
   ]
  },
  {
   "cell_type": "markdown",
   "id": "338fb47e",
   "metadata": {},
   "source": [
    "### Limpieza"
   ]
  },
  {
   "cell_type": "markdown",
   "id": "ded060e2",
   "metadata": {},
   "source": [
    "#### Filas vacías\n",
    "Limpiando aquellas filas que están vacías o bien les falta al menos un valor."
   ]
  },
  {
   "cell_type": "code",
   "execution_count": 56,
   "id": "bd2ceb5c",
   "metadata": {},
   "outputs": [],
   "source": [
    "def cleanDatasetRows(dataFrame):\n",
    "    def oneValueMissing(dataFrame):\n",
    "        return dataFrame.dropna()\n",
    "    def allValuesMissing(dataFrame):\n",
    "        return dataFrame.dropna(how='all')\n",
    "    \n",
    "    return allValuesMissing(oneValueMissing(dataFrame))"
   ]
  },
  {
   "cell_type": "code",
   "execution_count": 57,
   "id": "4b7999bf",
   "metadata": {},
   "outputs": [
    {
     "name": "stdout",
     "output_type": "stream",
     "text": [
      "La limpieza de filas se ha realizado y ahora son: 9993 filas\n"
     ]
    }
   ],
   "source": [
    "\"\"\"\n",
    "Pandas DataFrames interpret empty strings as 'not null' so\n",
    "    set empty rows to numpy NaN values:\n",
    "\"\"\"\n",
    "dataFrame[\"description\"].replace('', np.nan, inplace=True)\n",
    "\n",
    "dataFrame = cleanDatasetRows(dataFrame)\n",
    "print(f'La limpieza de filas se ha realizado y ahora son: {len(dataFrame)} filas')"
   ]
  },
  {
   "cell_type": "markdown",
   "id": "7653dd7c",
   "metadata": {},
   "source": [
    "#### Filtro de palabras para eliminar el ruido en el nombre del item"
   ]
  },
  {
   "cell_type": "code",
   "execution_count": 58,
   "id": "3ae765f4",
   "metadata": {},
   "outputs": [],
   "source": [
    "# Must be in lowercase:\n",
    "wordsFilter = set(['de', 'con', 'y', '', 'sin', 'que', 'o', 'a', 'la', 'al',\n",
    "                   'un', 'una', 'los', 'las', 'por', 'en', 'no.', 'n.d', 'para',\n",
    "                   's/m', 's/m,', 's/n', 's/n.', 'el', 'del', 'xla',\n",
    "                   '\"a', 'es', '0', '1', '2', '3', '4', '5', '6', '7', '8', '9',\n",
    "                   '10', '-', '#', 'color', 'muy', 'ni', 'no', 'caracteristicas:',\n",
    "                   'características:', 'n.d.', 's/n:',''])\n"
   ]
  },
  {
   "cell_type": "markdown",
   "id": "57b81d99",
   "metadata": {},
   "source": [
    "#### Columna de descripcion"
   ]
  },
  {
   "cell_type": "code",
   "execution_count": 59,
   "id": "74b735d5",
   "metadata": {},
   "outputs": [],
   "source": [
    "def cleanSentenceWords(sentence, wordsfilter):\n",
    "    def cleanWordRecursive(sentence, word):\n",
    "        if word in sentence:\n",
    "            sentence.remove(word)\n",
    "            cleanWordRecursive(sentence, word)\n",
    "        else:\n",
    "            return\n",
    "\n",
    "    sentenceTokens = sentence.casefold().split()\n",
    "    \n",
    "    for word in wordsFilter:\n",
    "        if word in sentenceTokens:\n",
    "            cleanWordRecursive(sentenceTokens,word)\n",
    "            \n",
    "    return ' '.join(sentenceTokens)\n",
    "\n",
    "# maybe:\n",
    "#def cleanSentenceByRegEx(sentence, regEx):"
   ]
  },
  {
   "cell_type": "code",
   "execution_count": 60,
   "id": "7eff9ae8",
   "metadata": {},
   "outputs": [],
   "source": [
    "def cleanFirstCharacterSpace(word):\n",
    "    try:\n",
    "        if word[0] == ' ':\n",
    "            word = word[1:]\n",
    "    except Exception as error:\n",
    "        print(f'a row has escaped empty rows cleansing, leading to: {error}')\n",
    "    return word"
   ]
  },
  {
   "cell_type": "code",
   "execution_count": 61,
   "id": "1057a687",
   "metadata": {},
   "outputs": [],
   "source": [
    "def cleanSentenceCharacters(sentence):\n",
    "    characters = set(['\"', '\\'', ',', ', ', ';','#', ':', 'P/'])\n",
    "    for char in characters:\n",
    "        sentence = sentence.replace(char,'')\n",
    "    return sentence"
   ]
  },
  {
   "cell_type": "code",
   "execution_count": 62,
   "id": "2fdac3ca",
   "metadata": {},
   "outputs": [],
   "source": [
    "def cleanDescriptionColumn(row):\n",
    "    row = cleanSentenceWords(row, wordsFilter).upper()\n",
    "    row = cleanFirstCharacterSpace(row)\n",
    "    row = cleanSentenceCharacters(row)\n",
    "    return row "
   ]
  },
  {
   "cell_type": "code",
   "execution_count": 63,
   "id": "6a186342",
   "metadata": {},
   "outputs": [
    {
     "name": "stdout",
     "output_type": "stream",
     "text": [
      "a row has escaped empty rows cleansing, leading to: string index out of range\n"
     ]
    }
   ],
   "source": [
    "dataFrameCopy = dataFrame.copy()\n",
    "dataFrame[\"description\"] = dataFrame[\"description\"].astype(str).apply(cleanDescriptionColumn)"
   ]
  },
  {
   "cell_type": "markdown",
   "id": "f014e481",
   "metadata": {},
   "source": [
    "#### Mostrando diferencias - Antes y después de la limpieza"
   ]
  },
  {
   "cell_type": "code",
   "execution_count": 64,
   "id": "59e1de6c",
   "metadata": {},
   "outputs": [
    {
     "data": {
      "text/html": [
       "<div>\n",
       "<style scoped>\n",
       "    .dataframe tbody tr th:only-of-type {\n",
       "        vertical-align: middle;\n",
       "    }\n",
       "\n",
       "    .dataframe tbody tr th {\n",
       "        vertical-align: top;\n",
       "    }\n",
       "\n",
       "    .dataframe thead th {\n",
       "        text-align: right;\n",
       "    }\n",
       "</style>\n",
       "<table border=\"1\" class=\"dataframe\">\n",
       "  <thead>\n",
       "    <tr style=\"text-align: right;\">\n",
       "      <th></th>\n",
       "      <th>type</th>\n",
       "      <th>class</th>\n",
       "      <th>description</th>\n",
       "    </tr>\n",
       "  </thead>\n",
       "  <tbody>\n",
       "    <tr>\n",
       "      <th>0</th>\n",
       "      <td>Mobiliario</td>\n",
       "      <td>Mobiliario</td>\n",
       "      <td>SILLON EJECUTIVO RESPALDO MEDIO COLOR NEGRO. N...</td>\n",
       "    </tr>\n",
       "    <tr>\n",
       "      <th>1</th>\n",
       "      <td>Mobiliario</td>\n",
       "      <td>Mobiliario</td>\n",
       "      <td>PINTARRON 60X90 (ALTA 20 ENE 1999 MARCA ALFRA).</td>\n",
       "    </tr>\n",
       "    <tr>\n",
       "      <th>2</th>\n",
       "      <td>Equipo</td>\n",
       "      <td>Equipo</td>\n",
       "      <td>MONITOR DE COLOR HP DE 15\", N.D. 017/2002 ALTA...</td>\n",
       "    </tr>\n",
       "    <tr>\n",
       "      <th>3</th>\n",
       "      <td>Mobiliario</td>\n",
       "      <td>Mobiliario</td>\n",
       "      <td>CESTO DE BASURA ALUMINIO N.D. 007/2005, ALTA 3...</td>\n",
       "    </tr>\n",
       "    <tr>\n",
       "      <th>4</th>\n",
       "      <td>Transporte</td>\n",
       "      <td>Transporte</td>\n",
       "      <td>AUTOMOVIL FORD ESCORT 1998, PLACAS: HZG1129, N...</td>\n",
       "    </tr>\n",
       "  </tbody>\n",
       "</table>\n",
       "</div>"
      ],
      "text/plain": [
       "         type       class                                        description\n",
       "0  Mobiliario  Mobiliario  SILLON EJECUTIVO RESPALDO MEDIO COLOR NEGRO. N...\n",
       "1  Mobiliario  Mobiliario    PINTARRON 60X90 (ALTA 20 ENE 1999 MARCA ALFRA).\n",
       "2      Equipo      Equipo  MONITOR DE COLOR HP DE 15\", N.D. 017/2002 ALTA...\n",
       "3  Mobiliario  Mobiliario  CESTO DE BASURA ALUMINIO N.D. 007/2005, ALTA 3...\n",
       "4  Transporte  Transporte  AUTOMOVIL FORD ESCORT 1998, PLACAS: HZG1129, N..."
      ]
     },
     "execution_count": 64,
     "metadata": {},
     "output_type": "execute_result"
    }
   ],
   "source": [
    "dataFrameCopy.head()"
   ]
  },
  {
   "cell_type": "code",
   "execution_count": 65,
   "id": "00946b72",
   "metadata": {},
   "outputs": [
    {
     "data": {
      "text/html": [
       "<div>\n",
       "<style scoped>\n",
       "    .dataframe tbody tr th:only-of-type {\n",
       "        vertical-align: middle;\n",
       "    }\n",
       "\n",
       "    .dataframe tbody tr th {\n",
       "        vertical-align: top;\n",
       "    }\n",
       "\n",
       "    .dataframe thead th {\n",
       "        text-align: right;\n",
       "    }\n",
       "</style>\n",
       "<table border=\"1\" class=\"dataframe\">\n",
       "  <thead>\n",
       "    <tr style=\"text-align: right;\">\n",
       "      <th></th>\n",
       "      <th>type</th>\n",
       "      <th>class</th>\n",
       "      <th>description</th>\n",
       "    </tr>\n",
       "  </thead>\n",
       "  <tbody>\n",
       "    <tr>\n",
       "      <th>0</th>\n",
       "      <td>Mobiliario</td>\n",
       "      <td>Mobiliario</td>\n",
       "      <td>SILLON EJECUTIVO RESPALDO MEDIO NEGRO. ND 13/2...</td>\n",
       "    </tr>\n",
       "    <tr>\n",
       "      <th>1</th>\n",
       "      <td>Mobiliario</td>\n",
       "      <td>Mobiliario</td>\n",
       "      <td>PINTARRON 60X90 (ALTA 20 ENE 1999 MARCA ALFRA).</td>\n",
       "    </tr>\n",
       "    <tr>\n",
       "      <th>2</th>\n",
       "      <td>Equipo</td>\n",
       "      <td>Equipo</td>\n",
       "      <td>MONITOR HP 15 017/2002 ALTA 07 OCTUBRE 2002</td>\n",
       "    </tr>\n",
       "    <tr>\n",
       "      <th>3</th>\n",
       "      <td>Mobiliario</td>\n",
       "      <td>Mobiliario</td>\n",
       "      <td>CESTO BASURA ALUMINIO 007/2005 ALTA 31 AGOSTO ...</td>\n",
       "    </tr>\n",
       "    <tr>\n",
       "      <th>4</th>\n",
       "      <td>Transporte</td>\n",
       "      <td>Transporte</td>\n",
       "      <td>AUTOMOVIL FORD ESCORT 1998 PLACAS HZG1129 SERI...</td>\n",
       "    </tr>\n",
       "  </tbody>\n",
       "</table>\n",
       "</div>"
      ],
      "text/plain": [
       "         type       class                                        description\n",
       "0  Mobiliario  Mobiliario  SILLON EJECUTIVO RESPALDO MEDIO NEGRO. ND 13/2...\n",
       "1  Mobiliario  Mobiliario    PINTARRON 60X90 (ALTA 20 ENE 1999 MARCA ALFRA).\n",
       "2      Equipo      Equipo        MONITOR HP 15 017/2002 ALTA 07 OCTUBRE 2002\n",
       "3  Mobiliario  Mobiliario  CESTO BASURA ALUMINIO 007/2005 ALTA 31 AGOSTO ...\n",
       "4  Transporte  Transporte  AUTOMOVIL FORD ESCORT 1998 PLACAS HZG1129 SERI..."
      ]
     },
     "execution_count": 65,
     "metadata": {},
     "output_type": "execute_result"
    }
   ],
   "source": [
    "dataFrame.head()"
   ]
  },
  {
   "cell_type": "markdown",
   "id": "8a417efe",
   "metadata": {},
   "source": [
    "### Clasificación de datos"
   ]
  },
  {
   "cell_type": "markdown",
   "id": "7b812763",
   "metadata": {},
   "source": [
    "#### Creando una nueva columna 'item'\n",
    "Esta servirá para guardar el nombre del item"
   ]
  },
  {
   "cell_type": "code",
   "execution_count": 66,
   "id": "c527464c",
   "metadata": {},
   "outputs": [],
   "source": [
    "def getItemName(sentence):\n",
    "    sentenceTokens = sentence.split()\n",
    "    return ' '.join(sentenceTokens[:2])"
   ]
  },
  {
   "cell_type": "code",
   "execution_count": 67,
   "id": "7667ede5",
   "metadata": {},
   "outputs": [],
   "source": [
    "dataFrameCopy = dataFrame.copy()"
   ]
  },
  {
   "cell_type": "code",
   "execution_count": 68,
   "id": "a58c7080",
   "metadata": {},
   "outputs": [
    {
     "data": {
      "text/html": [
       "<div>\n",
       "<style scoped>\n",
       "    .dataframe tbody tr th:only-of-type {\n",
       "        vertical-align: middle;\n",
       "    }\n",
       "\n",
       "    .dataframe tbody tr th {\n",
       "        vertical-align: top;\n",
       "    }\n",
       "\n",
       "    .dataframe thead th {\n",
       "        text-align: right;\n",
       "    }\n",
       "</style>\n",
       "<table border=\"1\" class=\"dataframe\">\n",
       "  <thead>\n",
       "    <tr style=\"text-align: right;\">\n",
       "      <th></th>\n",
       "      <th>type</th>\n",
       "      <th>class</th>\n",
       "      <th>description</th>\n",
       "      <th>item</th>\n",
       "    </tr>\n",
       "  </thead>\n",
       "  <tbody>\n",
       "    <tr>\n",
       "      <th>0</th>\n",
       "      <td>Mobiliario</td>\n",
       "      <td>Mobiliario</td>\n",
       "      <td>SILLON EJECUTIVO RESPALDO MEDIO NEGRO. ND 13/2...</td>\n",
       "      <td>SILLON EJECUTIVO</td>\n",
       "    </tr>\n",
       "    <tr>\n",
       "      <th>1</th>\n",
       "      <td>Mobiliario</td>\n",
       "      <td>Mobiliario</td>\n",
       "      <td>PINTARRON 60X90 (ALTA 20 ENE 1999 MARCA ALFRA).</td>\n",
       "      <td>PINTARRON 60X90</td>\n",
       "    </tr>\n",
       "    <tr>\n",
       "      <th>2</th>\n",
       "      <td>Equipo</td>\n",
       "      <td>Equipo</td>\n",
       "      <td>MONITOR HP 15 017/2002 ALTA 07 OCTUBRE 2002</td>\n",
       "      <td>MONITOR HP</td>\n",
       "    </tr>\n",
       "    <tr>\n",
       "      <th>3</th>\n",
       "      <td>Mobiliario</td>\n",
       "      <td>Mobiliario</td>\n",
       "      <td>CESTO BASURA ALUMINIO 007/2005 ALTA 31 AGOSTO ...</td>\n",
       "      <td>CESTO BASURA</td>\n",
       "    </tr>\n",
       "    <tr>\n",
       "      <th>4</th>\n",
       "      <td>Transporte</td>\n",
       "      <td>Transporte</td>\n",
       "      <td>AUTOMOVIL FORD ESCORT 1998 PLACAS HZG1129 SERI...</td>\n",
       "      <td>AUTOMOVIL FORD</td>\n",
       "    </tr>\n",
       "  </tbody>\n",
       "</table>\n",
       "</div>"
      ],
      "text/plain": [
       "         type       class                                        description  \\\n",
       "0  Mobiliario  Mobiliario  SILLON EJECUTIVO RESPALDO MEDIO NEGRO. ND 13/2...   \n",
       "1  Mobiliario  Mobiliario    PINTARRON 60X90 (ALTA 20 ENE 1999 MARCA ALFRA).   \n",
       "2      Equipo      Equipo        MONITOR HP 15 017/2002 ALTA 07 OCTUBRE 2002   \n",
       "3  Mobiliario  Mobiliario  CESTO BASURA ALUMINIO 007/2005 ALTA 31 AGOSTO ...   \n",
       "4  Transporte  Transporte  AUTOMOVIL FORD ESCORT 1998 PLACAS HZG1129 SERI...   \n",
       "\n",
       "               item  \n",
       "0  SILLON EJECUTIVO  \n",
       "1   PINTARRON 60X90  \n",
       "2        MONITOR HP  \n",
       "3      CESTO BASURA  \n",
       "4    AUTOMOVIL FORD  "
      ]
     },
     "execution_count": 68,
     "metadata": {},
     "output_type": "execute_result"
    }
   ],
   "source": [
    "dataFrameCopy[\"item\"] = dataFrameCopy[\"description\"].astype(str).apply(getItemName)\n",
    "dataFrameCopy.head()"
   ]
  },
  {
   "cell_type": "markdown",
   "id": "30762155",
   "metadata": {},
   "source": [
    "#### Exportando a CSV para realizar observaciones\n",
    "He exportado el proceso realizado hasta ahora para una observación en la columna 'item' y pensar sobre un criterio para clasificación"
   ]
  },
  {
   "cell_type": "code",
   "execution_count": 69,
   "id": "3a38e74b",
   "metadata": {},
   "outputs": [],
   "source": [
    "dataFrameCopy.to_csv('act_processed.csv')"
   ]
  },
  {
   "cell_type": "markdown",
   "id": "c3e438cf",
   "metadata": {},
   "source": [
    "#### Creación de filtros para clasificación"
   ]
  },
  {
   "cell_type": "code",
   "execution_count": 70,
   "id": "b53f1bbf",
   "metadata": {},
   "outputs": [],
   "source": [
    "classificationFilters = {\n",
    "    'Transporte' : {\n",
    "        'automovil' : ['AUTOMOVIL','PASAJEROS','SEDAN','CAMIONETA','LANCHA','PICKUP','PICK','VEHICULAR''AUTOBUS',\n",
    "                    'CAMION','MOTO','MOTOCICLETA','VEHICULO','UNIDAD','HONDA','TSURU','CRV','FRONTIER'],\n",
    "    },\n",
    "    'Mobiliario' : {\n",
    "        'oficina' : ['TARJETA','TABLERO','MODULO','NOTEBOOK','NETBOOK','ANALIZADOR','COMPRESOR','ARCHIVERO',\n",
    "                     'LAMPARA','MAMPARA','ANAQUEL','LIBRERO','PERCHERO','CALENTADOR','SALA','SECRETARIAL',\n",
    "                    'BASE','SILLA','MUEBLE','FOTOCOPIADORA'],\n",
    "        'cocina' : ['HORNO','ESTUFA','REFRIGERADOR','MICROONDAS','CAFETERRA','COCINA','ALACENA','CONGELADOR',\n",
    "                   'PARRILLA'],\n",
    "        'educacion' : ['PIZZARON','PINTARRON'],\n",
    "    },\n",
    "    'Equipo' : {\n",
    "        'electronico' : ['MONITOR','REGULADOR','TELEFONO','COMPUTADORA','CPU','MOUSE','RATON','TECLADO',\n",
    "                         'BREAK','NOBREAK','AUDIFONO','MICROFONO','GRABADORA','SCANER','PROYECTOR','LAPTOP',\n",
    "                        'PANTALLA','LASSER','LASER','RW','MEMORIA','KINGSTON','PENTIUM','USB','PROCESADOR',\n",
    "                        'CONSOLA','TOSHIBA','SONY','CAMARA','SWITCH','DRIVE','SERVIDOR','RED','TP','ROUTER',\n",
    "                         'ROUTERS','CONMUTADOR','MODEM','FLOPPY','ELECTRONICO','DIGITAL','TRAKER','TRACKER'\n",
    "                        'DISCO DURO','IMPRESORA','REGISTRADORA','VIDEO','VIDEOCASETERA'],\n",
    "        'seguridad' : ['BOTIQUIN','EXTINTOR','EXTINGUIDOR'],\n",
    "        'mantenimiento' : ['PODADORA','PULIDORA','HERRAMIENTAS'],\n",
    "        'pintura' : ['PINTURA','ACRILICO','MURAL']\n",
    "    },\n",
    "    'Bienes CulturalesArtísticos y Científicos' : {\n",
    "        'obra artistica' : ['OBRA','LITOGRAFIA'],\n",
    "        'obra cientifica' : ['DOCUMENTO', 'HISTORICO'],\n",
    "    },\n",
    "    'Libro' : {\n",
    "      'libro' : ['LIBRO','CUENTO','REVISTA','VAQUERO','LUNA DE PLUTON']\n",
    "    },\n",
    "    'Propiedad Intelectual' : {\n",
    "        'licencia' : ['LICENCIA']\n",
    "    }\n",
    "}"
   ]
  },
  {
   "cell_type": "markdown",
   "id": "0ab3ed1f",
   "metadata": {},
   "source": [
    "#### Clasificando y reescribiendo columna 'class'"
   ]
  },
  {
   "cell_type": "code",
   "execution_count": 71,
   "id": "539cd8c4",
   "metadata": {},
   "outputs": [],
   "source": [
    "def matchTypes(parentDictionary, itemName):\n",
    "    def isMatch(values, itemName):\n",
    "            for word in itemName:\n",
    "                if word in values:\n",
    "                    return True\n",
    "            return False\n",
    "        \n",
    "    for parentType, childDictionary in parentDictionary.items():\n",
    "        for childType, valuesList in childDictionary.items():\n",
    "            if isMatch(valuesList, itemName.split()):\n",
    "                return parentType, childType\n",
    "    return False, False"
   ]
  },
  {
   "cell_type": "code",
   "execution_count": 88,
   "id": "0fce9cd5",
   "metadata": {},
   "outputs": [],
   "source": [
    "## --- NORMAL CLASIFICATION\n",
    "def classificationOnClass(parentDictionary, row):\n",
    "    itemType, itemClass = matchTypes(parentDictionary, row[\"item\"])    \n",
    "    return itemClass if not False else row[\"class\"]\n",
    "    #if itemClass is not False:\n",
    "        #return itemClass\n",
    "    #return row[\"class\"]\n",
    "\n",
    "## --- CLASIFICATION THAT DISCARDS NOT CLASSIFIED VALUES\n",
    "def bruteClassificationOnClass(parentDictionary, row):            \n",
    "    itemType, itemClass = matchTypes(parentDictionary, row[\"item\"])    \n",
    "    return itemClass if not False else np.nan\n",
    "    # after this, can call cleanDatasetRows() again"
   ]
  },
  {
   "cell_type": "code",
   "execution_count": 89,
   "id": "f5e444b8",
   "metadata": {},
   "outputs": [],
   "source": [
    "dataFrameCopy['class'] = dataFrameCopy.astype(str).apply(\n",
    "    lambda row: classificationOnClass(classificationFilters, row), axis=1,\n",
    "    #lambda row: bruteClassificationOnClass(classificationFilters, row), axis=1\n",
    ")"
   ]
  },
  {
   "cell_type": "markdown",
   "id": "620fbba9",
   "metadata": {},
   "source": [
    "#### Limpieza opcional\n",
    "Si se usó `bruteClassificationOnClass()` se hace una limpieza \"Bruta\": eliminando filas que no pudieron ser clasificadas"
   ]
  },
  {
   "cell_type": "code",
   "execution_count": 90,
   "id": "6b77a09a",
   "metadata": {},
   "outputs": [],
   "source": [
    "# Before cleansing\n",
    "#dataFrameCopy.to_csv('dataset_processed.csv')\n",
    "\n",
    "# After cleansing\n",
    "#dataFrameCopy = cleanDatasetRows(dataFrameCopy)\n",
    "#dataFrameCopy.to_csv('dataset_processed_used_nan.csv') "
   ]
  },
  {
   "cell_type": "code",
   "execution_count": null,
   "id": "9d1b4d7d",
   "metadata": {},
   "outputs": [],
   "source": []
  }
 ],
 "metadata": {
  "kernelspec": {
   "display_name": "Python 3 (ipykernel)",
   "language": "python",
   "name": "python3"
  },
  "language_info": {
   "codemirror_mode": {
    "name": "ipython",
    "version": 3
   },
   "file_extension": ".py",
   "mimetype": "text/x-python",
   "name": "python",
   "nbconvert_exporter": "python",
   "pygments_lexer": "ipython3",
   "version": "3.9.7"
  }
 },
 "nbformat": 4,
 "nbformat_minor": 5
}
